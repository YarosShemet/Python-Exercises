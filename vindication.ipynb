{
 "cells": [
  {
   "cell_type": "markdown",
   "id": "cc9336d6",
   "metadata": {},
   "source": [
    "**Ładowanie paczek**"
   ]
  },
  {
   "cell_type": "code",
   "execution_count": 175,
   "id": "30282f80",
   "metadata": {},
   "outputs": [],
   "source": [
    "from datetime import datetime as dt, date\n",
    "import json"
   ]
  },
  {
   "cell_type": "markdown",
   "id": "a86f28e8",
   "metadata": {},
   "source": [
    "**Funkcje wspomagające**"
   ]
  },
  {
   "cell_type": "markdown",
   "id": "660af777",
   "metadata": {},
   "source": [
    "Zadanie zostało rozłożone na poszczególne funkcje."
   ]
  },
  {
   "cell_type": "markdown",
   "id": "ee419d41",
   "metadata": {},
   "source": [
    "Funkcja szuka indeksy symboli dla wyczyszczenia danych. Te indeksy będą wykorzystane do fragmentacji wiersza danych zgodnie z treścią zadania."
   ]
  },
  {
   "cell_type": "code",
   "execution_count": 176,
   "id": "30ab6ed5",
   "metadata": {},
   "outputs": [],
   "source": [
    "def find_indexes(symbol, input_string): \n",
    "    return [i for i in range(len(input_string)) if input_string[i] == symbol] #generator listy"
   ]
  },
  {
   "cell_type": "markdown",
   "id": "558ea912",
   "metadata": {},
   "source": [
    "Funkcja wyczyszcza dane, pozbywając się symboli otaczających fragmenty opisu sprawy. Poza tym sprawdza warunki na uszkodzone dane (4 składowych opisu i sparowane znaki). Uszkodzone dane nie zostają zachowywane, bo nie wymaga to treść zadania, jednak  liczba uszkodzonych spraw jest liczona. "
   ]
  },
  {
   "cell_type": "code",
   "execution_count": 177,
   "id": "8121d823",
   "metadata": {},
   "outputs": [],
   "source": [
    "delimiters=['!', '#', '$', '%'] #wejściowe symbole kodujące\n",
    "def get_clean_data(input_raw_data):\n",
    "    ok_cases = []\n",
    "    count_damaged = 0\n",
    "    for case in input_raw_data: #dla każdej sprawy \n",
    "        ok_compose_list = [] #łączenie wyczyszczonych fragmentów danych sprawy\n",
    "        flag_damaged = True #flaga służy do wskazania czy dane są uszkodzone\n",
    "        for symbol in delimiters: #sprawdzany jest każdy symbol\n",
    "            if case.count(symbol) == 2: #niesparowane znaki\n",
    "                indexes = find_indexes(symbol, case) #funkcja podana wyżej\n",
    "                ok_compose_list.append(case[(indexes[0]+1):indexes[1]]) #fragment wnętrza bez symboli\n",
    "            else:\n",
    "                flag_damaged = False #gdy warunek niesparowania znaków nie jest spełniony\n",
    "        if len(ok_compose_list) == 4 and flag_damaged != False: #4 składowych opisu i sparowane znaki\n",
    "            ok_cases.append(ok_compose_list)\n",
    "        else:\n",
    "            count_damaged+=1 #liczba spraw uszkodzonych\n",
    "    return ok_cases, count_damaged"
   ]
  },
  {
   "cell_type": "markdown",
   "id": "0a563784",
   "metadata": {},
   "source": [
    "Funkcja polega na selekcji spraw przeterminowanych za pomocą porównania daty raportu i terminu sprawy. Użytkownik zapewnia wprowadzenie daty w formacie ISO). Tworzone zatem są osobne listy dla spraw niezakończonych i przeterminowanych."
   ]
  },
  {
   "cell_type": "code",
   "execution_count": 178,
   "id": "84dec538",
   "metadata": {},
   "outputs": [],
   "source": [
    "def is_overdue(next_step_data, report_date):\n",
    "    overdue_cases = []\n",
    "    ok_cases = []\n",
    "    for case in next_step_data:\n",
    "        if date.fromisoformat(case[3]) > report_date: #po wyczyszczeniu data znajduje się na czwartym miejscu, format ISO\n",
    "            ok_cases.append(case)\n",
    "        else:\n",
    "            overdue_cases.append(case)\n",
    "    return ok_cases, overdue_cases"
   ]
  },
  {
   "cell_type": "markdown",
   "id": "cda6a97b",
   "metadata": {},
   "source": [
    "Funkcja przyjmuje kwotę jako wartość tekstową i przekształca ją do kwoty z odsetkami, które liczone są według wzoru\n",
    "liczba_dni_zaległości\\*(r/365)\\*kwota_zaległości "
   ]
  },
  {
   "cell_type": "code",
   "execution_count": 179,
   "id": "645aba4e",
   "metadata": {},
   "outputs": [],
   "source": [
    "def overdue_calc(text_value, r_day, liczba_dni_zaległości):\n",
    "    original_value = float(text_value[:-3]) #bez wskazania waluty zł\n",
    "    overdue_value = round(original_value+liczba_dni_zaległości*r_day*original_value, 2)\n",
    "    return overdue_value"
   ]
  },
  {
   "cell_type": "markdown",
   "id": "0ddf0c7e",
   "metadata": {},
   "source": [
    "**Funkcja końcowa Wind**\n",
    "\n",
    "Funkcja ma przyjąć nazwy dwóch plików, stopę procentową i datę raportu. Pierwszy parametr - nazwa pliku z danymi surowymi w określonym w treści zadania formacie. Drugi - nazwa pliku wyjściowego w formacie .json. Trzeci - roczna stopa procentowa. Czwarty - data raportu, która jest w podana w formacie ISO (więc nie wymagana jest wymuszona konwertacja).\n",
    "Zadaniem funkcji jest identyfikacja spraw przeterminowanych czyli tych, termin których jest wcześniejszy od daty raportu. \n",
    "Funkcja zwraca liczbę spraw przeterminowanych, liczbę spraw uszkodzonych, liczbę spraw niezakończonych. Plik wyściowy zawiera sprawy przeterminowane wraz z kwotami z odsetkami."
   ]
  },
  {
   "cell_type": "code",
   "execution_count": 180,
   "id": "8068c3d9",
   "metadata": {},
   "outputs": [],
   "source": [
    "def wind(lista_spraw, lista_spraw_przeterm, r=0.55, date=date.today()): \n",
    "    if lista_spraw.endswith('.txt') != True or lista_spraw_przeterm.endswith('.json') != True:\n",
    "        return ('Proszę podać pliki z właściwym rozszerzeniem: .txt dla pliku wejściowego z listą spraw oraz .json dla pliku wyjściowego z listą spraw zaległych')\n",
    "    date = dt.strptime(str(date), \"%Y-%m-%d\").date() #zapewnienie wymaganego formatu ISO\n",
    "    raw_data = open(lista_spraw, 'r', encoding='utf').readlines() #sprawy są oddzielone przez \\n\n",
    "    clean_data, count_damaged = get_clean_data(raw_data) #funkcja podana wyżej\n",
    "    ok_data, overdue_data = is_overdue(clean_data, date) #funkcja podana wyżej\n",
    "    clean_overdue_data = []\n",
    "    for case in overdue_data:\n",
    "        clean_compose_list = []\n",
    "        clean_compose_list.append(case[0]) #nr sprawy\n",
    "        clean_compose_list.append(case[1]) #imię, nazwisko\n",
    "        clean_compose_list.append(overdue_calc(case[2], r/365, (date-date.fromisoformat(case[3])).days)) #przeskalowanie rocznej stopy na dzienną oraz różnica w dniach\n",
    "        clean_overdue_data.append(clean_compose_list)\n",
    "    output_file = open(lista_spraw_przeterm, 'w', encoding='utf')\n",
    "    json.dump(clean_overdue_data, output_file, ensure_ascii = False) #utf-8\n",
    "    print(f'Liczba spraw przeterminowanych: {len(overdue_data)}\\nLiczba spraw uszkodzonych: {count_damaged}\\nLiczba spraw niezakończonych: {len(ok_data)}')\n",
    "    return len(overdue_data), count_damaged, len(ok_data)"
   ]
  },
  {
   "cell_type": "markdown",
   "id": "beb4bfa6",
   "metadata": {},
   "source": [
    "**Przykłady**"
   ]
  },
  {
   "cell_type": "code",
   "execution_count": 181,
   "id": "288b4dbd",
   "metadata": {},
   "outputs": [
    {
     "data": {
      "text/plain": [
       "'Proszę podać pliki z właściwym rozszerzeniem: .txt dla pliku wejściowego z listą spraw oraz .json dla pliku wyjściowego z listą spraw zaległych'"
      ]
     },
     "execution_count": 181,
     "metadata": {},
     "output_type": "execute_result"
    }
   ],
   "source": [
    "wind('windyk2uszk.xlsx', 'windyk2przeterm.xlsx')"
   ]
  },
  {
   "cell_type": "code",
   "execution_count": 186,
   "id": "f6584005",
   "metadata": {},
   "outputs": [
    {
     "name": "stdout",
     "output_type": "stream",
     "text": [
      "Liczba spraw przeterminowanych: 20\n",
      "Liczba spraw uszkodzonych: 4\n",
      "Liczba spraw niezakończonych: 6\n"
     ]
    },
    {
     "data": {
      "text/plain": [
       "(20, 4, 6)"
      ]
     },
     "execution_count": 186,
     "metadata": {},
     "output_type": "execute_result"
    }
   ],
   "source": [
    "wind('windyk2uszk.txt', 'windyk2przeterm.json')"
   ]
  },
  {
   "cell_type": "code",
   "execution_count": 187,
   "id": "3c7d48bd",
   "metadata": {},
   "outputs": [
    {
     "name": "stdout",
     "output_type": "stream",
     "text": [
      "Liczba spraw przeterminowanych: 23\n",
      "Liczba spraw uszkodzonych: 0\n",
      "Liczba spraw niezakończonych: 7\n"
     ]
    },
    {
     "data": {
      "text/plain": [
       "(23, 0, 7)"
      ]
     },
     "execution_count": 187,
     "metadata": {},
     "output_type": "execute_result"
    }
   ],
   "source": [
    "wind('windyk5.txt', 'windyk5przeterm.json')"
   ]
  },
  {
   "cell_type": "code",
   "execution_count": 184,
   "id": "a20b2c49",
   "metadata": {},
   "outputs": [
    {
     "name": "stdout",
     "output_type": "stream",
     "text": [
      "Liczba spraw przeterminowanych: 17\n",
      "Liczba spraw uszkodzonych: 4\n",
      "Liczba spraw niezakończonych: 9\n"
     ]
    },
    {
     "data": {
      "text/plain": [
       "(17, 4, 9)"
      ]
     },
     "execution_count": 184,
     "metadata": {},
     "output_type": "execute_result"
    }
   ],
   "source": [
    "wind('windyk2uszk.txt', 'windyk5przeterm.json', 0.25, '2023-10-01') "
   ]
  }
 ],
 "metadata": {
  "kernelspec": {
   "display_name": "Python 3 (ipykernel)",
   "language": "python",
   "name": "python3"
  },
  "language_info": {
   "codemirror_mode": {
    "name": "ipython",
    "version": 3
   },
   "file_extension": ".py",
   "mimetype": "text/x-python",
   "name": "python",
   "nbconvert_exporter": "python",
   "pygments_lexer": "ipython3",
   "version": "3.9.12"
  }
 },
 "nbformat": 4,
 "nbformat_minor": 5
}
